{
  "nbformat": 4,
  "nbformat_minor": 0,
  "metadata": {
    "colab": {
      "provenance": [],
      "authorship_tag": "ABX9TyMP6Rkh7eka2px0/72qSCqY",
      "include_colab_link": true
    },
    "kernelspec": {
      "name": "python3",
      "display_name": "Python 3"
    },
    "language_info": {
      "name": "python"
    },
    "gpuClass": "standard",
    "accelerator": "GPU"
  },
  "cells": [
    {
      "cell_type": "markdown",
      "metadata": {
        "id": "view-in-github",
        "colab_type": "text"
      },
      "source": [
        "<a href=\"https://colab.research.google.com/github/ChetanS07/Predict_Hair_Transplant_Outcomes_Using_CycleGAN/blob/main/CycleGANtesting.ipynb\" target=\"_parent\"><img src=\"https://colab.research.google.com/assets/colab-badge.svg\" alt=\"Open In Colab\"/></a>"
      ]
    },
    {
      "cell_type": "markdown",
      "source": [
        "**Pre requisites**\n",
        "1. Download the git repo from this link \"https://github.com/junyanz/CycleGAN.git\"\n",
        "2. Create a dataset as mentioned in the link (4 folders : testA,testB,trainA,trainB)"
      ],
      "metadata": {
        "id": "gjI8zjlyZ6MY"
      }
    },
    {
      "cell_type": "code",
      "execution_count": null,
      "metadata": {
        "colab": {
          "base_uri": "https://localhost:8080/"
        },
        "id": "g7ri0Nhbqo_p",
        "outputId": "f5635e37-8348-433d-c86b-01668dfd8628"
      },
      "outputs": [
        {
          "output_type": "stream",
          "name": "stdout",
          "text": [
            "Mounted at /content/drive\n"
          ]
        }
      ],
      "source": [
        "# for accessing dataset\n",
        "\n",
        "from google.colab import drive\n",
        "drive.mount('/content/drive')\n"
      ]
    },
    {
      "cell_type": "code",
      "source": [
        "# download the zip file from https://github.com/junyanz/CycleGAN.git, and upload it to the drive add the path here\n",
        "\n",
        "import os\n",
        "# os.chdir('drive/MyDrive/MiniProject/testing/pytorch-CycleGAN-and-pix2pix-master/')\n",
        "os.chdir('your_path')"
      ],
      "metadata": {
        "id": "h-y078qoqzT3"
      },
      "execution_count": null,
      "outputs": []
    },
    {
      "cell_type": "code",
      "source": [
        "# install all the requrements for the project\n",
        "\n",
        "!pip install -r requirements.txt"
      ],
      "metadata": {
        "id": "vbxawZXuq5Zn"
      },
      "execution_count": null,
      "outputs": []
    },
    {
      "cell_type": "code",
      "source": [
        "# code for training the model\n",
        "\n",
        "!python train.py --dataroot ./datasets/plastic_surgery --name plasticSurgery --model cycle_gan --display_id -1"
      ],
      "metadata": {
        "id": "5D3eM4T-Zutd"
      },
      "execution_count": null,
      "outputs": []
    },
    {
      "cell_type": "code",
      "source": [
        "# code for testing the model\n",
        "\n",
        "!python test.py --dataroot datasets/plastic_surgery/testA --name plasticSurgery --model test --no_dropout"
      ],
      "metadata": {
        "id": "TmGmqPSCq-An"
      },
      "execution_count": null,
      "outputs": []
    }
  ]
}